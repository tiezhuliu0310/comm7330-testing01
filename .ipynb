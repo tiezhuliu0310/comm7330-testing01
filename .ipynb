{
 "cells": [
  {
   "cell_type": "markdown",
   "metadata": {},
   "source": [
    "# Header level 1\n",
    "## Header level 2\n",
    "### Header level 3"
   ]
  },
  {
   "cell_type": "markdown",
   "metadata": {},
   "source": [
    "- points\n",
    " - subpoints 1\n",
    " - subpoints 2\n",
    " \n",
    " \n",
    "- points\n",
    " - subpoints\n",
    " \n",
    " \n",
    "1. numbers\n",
    "2. numbers\n",
    "3. numbers\n",
    "1. numbers\n",
    "5. numbers\n",
    "\n",
    "\n",
    " *italic*\n",
    " \n",
    " **bold**\n",
    " \n",
    "inserting an [URL](https://github.com/adam-p/markdown-here/wiki/Markdown-Cheatsheet#headers)\n",
    "\n",
    "inserting a picture: ![this is a alternative text](image address.jpg)\n",
    "\n",
    "[Github](https://github.com/xzzhang2/201904_HKBULib_Py/blob/master/README.md)"
   ]
  },
  {
   "cell_type": "code",
   "execution_count": null,
   "metadata": {},
   "outputs": [],
   "source": []
  }
 ],
 "metadata": {
  "kernelspec": {
   "display_name": "Python 3",
   "language": "python",
   "name": "python3"
  },
  "language_info": {
   "codemirror_mode": {
    "name": "ipython",
    "version": 3
   },
   "file_extension": ".py",
   "mimetype": "text/x-python",
   "name": "python",
   "nbconvert_exporter": "python",
   "pygments_lexer": "ipython3",
   "version": "3.7.3"
  }
 },
 "nbformat": 4,
 "nbformat_minor": 2
}
